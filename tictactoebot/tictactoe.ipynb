{
 "cells": [
  {
   "cell_type": "code",
   "execution_count": 1,
   "metadata": {},
   "outputs": [],
   "source": [
    "from easyAI import TwoPlayerGame, AI_Player, Negamax\n",
    "from easyAI.Player import Human_Player"
   ]
  },
  {
   "cell_type": "code",
   "execution_count": 2,
   "metadata": {},
   "outputs": [],
   "source": [
    "# Inherit class from TwoPlayerGame class to handle all operations of the game\n",
    "class TicTacToe_game(TwoPlayerGame):\n",
    "    def __init__(self, players):\n",
    "\n",
    "        # define the players and the player who is going to start the game\n",
    "        self.players = players\n",
    "        self.nplayer = 1\n",
    "\n",
    "        # define the type of board\n",
    "        self.board = [0] * 9"
   ]
  },
  {
   "cell_type": "code",
   "execution_count": 3,
   "metadata": {},
   "outputs": [],
   "source": [
    "# define possible moves\n",
    "def possible_moves(self):\n",
    "    return [x + 1 for x, y in enumerate(self.board) if y == 0]"
   ]
  },
  {
   "cell_type": "code",
   "execution_count": 4,
   "metadata": {},
   "outputs": [],
   "source": [
    "# define the move of a player\n",
    "def make_move(self, move):\n",
    "    self.board[int(move) - 1] = self.nplayer"
   ]
  },
  {
   "cell_type": "code",
   "execution_count": 5,
   "metadata": {},
   "outputs": [],
   "source": [
    "# define when a player makes a move:\n",
    "def umake_move(self, move):\n",
    "    self.board[int(move) - 1] = 0"
   ]
  },
  {
   "cell_type": "code",
   "execution_count": 6,
   "metadata": {},
   "outputs": [],
   "source": [
    "# define the lose condition that an opponent have three in a line\n",
    "def condition_for_lose(self):\n",
    "    possible_combinations = [[1,2,3], [4,5,6], [7,8,9],\n",
    "    [1,4,7], [2,5,8], [3,6,9], [1,5,9], [3,5,7]]\n",
    "    return any([all([(self.board[z-1] == self.nopponent)\n",
    "for z in combination]) for combination in\n",
    "possible_combinations])"
   ]
  },
  {
   "cell_type": "code",
   "execution_count": 7,
   "metadata": {},
   "outputs": [],
   "source": [
    "# define a check for the finish of game\n",
    "def is_over(self):\n",
    "    return (self.possible_moves() == []) or self.condition_for_lose()"
   ]
  },
  {
   "cell_type": "code",
   "execution_count": 8,
   "metadata": {},
   "outputs": [],
   "source": [
    "# show the current position of the players in the game\n",
    "def show(self):\n",
    "    print('\\n'+'\\n'.join([' '.join([['.', 'O', 'X'][self.board[3*j + i]]\n",
    "for i in range(3)]) for j in range(3)]))"
   ]
  },
  {
   "cell_type": "code",
   "execution_count": 9,
   "metadata": {},
   "outputs": [],
   "source": [
    "# compute the scores.\n",
    "def scoring(self):\n",
    "    return -100 if self.condition_for_lose() else 0"
   ]
  },
  {
   "cell_type": "code",
   "execution_count": null,
   "metadata": {},
   "outputs": [],
   "source": [
    "# define the main method to define the algorithm and start the game:\n",
    "if __name__ == \"__main__\":\n",
    "    algo = Negamax(7)\n",
    "    TicTacToe_game([Human_Player(), AI_Player(algo)]).play()"
   ]
  }
 ],
 "metadata": {
  "interpreter": {
   "hash": "3ee077f37665b91de481c1d0cc1b8d027e5f3917c38c1b897409fa8027de6aad"
  },
  "kernelspec": {
   "display_name": "Python 3.10.4 ('tictactoebot': venv)",
   "language": "python",
   "name": "python3"
  },
  "language_info": {
   "codemirror_mode": {
    "name": "ipython",
    "version": 3
   },
   "file_extension": ".py",
   "mimetype": "text/x-python",
   "name": "python",
   "nbconvert_exporter": "python",
   "pygments_lexer": "ipython3",
   "version": "3.10.4"
  },
  "orig_nbformat": 4
 },
 "nbformat": 4,
 "nbformat_minor": 2
}
